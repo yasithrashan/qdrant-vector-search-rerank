{
  "nbformat": 4,
  "nbformat_minor": 0,
  "metadata": {
    "colab": {
      "provenance": []
    },
    "kernelspec": {
      "name": "python3",
      "display_name": "Python 3"
    },
    "language_info": {
      "name": "python"
    }
  },
  "cells": [
    {
      "cell_type": "code",
      "execution_count": null,
      "metadata": {
        "collapsed": true,
        "id": "DMJx_wiaqGOU"
      },
      "outputs": [],
      "source": [
        "!pip install qdrant-client cohere"
      ]
    },
    {
      "cell_type": "code",
      "source": [
        "from qdrant_client import QdrantClient\n",
        "from qdrant_client.models import Distance, VectorParams, PointStruct\n",
        "import cohere"
      ],
      "metadata": {
        "id": "wkDh8FrSqUHi"
      },
      "execution_count": null,
      "outputs": []
    },
    {
      "cell_type": "code",
      "source": [
        "from google.colab import userdata\n",
        "QDRANT_API_KEY = userdata.get('QDRANT_API_KEY')\n",
        "URL = userdata.get('QDRANT_URL')\n",
        "COHERE_API_KEY = userdata.get('COHERE_API_KEY')"
      ],
      "metadata": {
        "id": "SWFqdyjSs3EW"
      },
      "execution_count": null,
      "outputs": []
    },
    {
      "cell_type": "code",
      "source": [
        "client = QdrantClient(\n",
        "    url=URL,\n",
        "    api_key=QDRANT_API_KEY,\n",
        ")\n",
        "\n",
        "print(client.get_collections())"
      ],
      "metadata": {
        "id": "WOur2nFSs1je"
      },
      "execution_count": null,
      "outputs": []
    },
    {
      "cell_type": "code",
      "source": [
        "co = cohere.Client(COHERE_API_KEY)"
      ],
      "metadata": {
        "id": "yVkdX_FEuRxf"
      },
      "execution_count": null,
      "outputs": []
    },
    {
      "cell_type": "markdown",
      "source": [
        "# Ingestion\n",
        "Creating a Collection, Converting Documents to Embeddings, and Upserting the Data."
      ],
      "metadata": {
        "id": "pB44_0tMubWe"
      }
    },
    {
      "cell_type": "code",
      "source": [
        "client.create_collection(\n",
        "    collection_name=\"basic-search-rerank\",\n",
        "    vectors_config=VectorParams(size=1024, distance=Distance.DOT),\n",
        ")"
      ],
      "metadata": {
        "id": "fFLy7FUcucLg"
      },
      "execution_count": null,
      "outputs": []
    },
    {
      "cell_type": "markdown",
      "source": [
        "# Documents to Embeddings"
      ],
      "metadata": {
        "id": "RL2qAV4svA5V"
      }
    },
    {
      "cell_type": "code",
      "source": [
        "query = \"What is the purpose of feature scaling in machine learning?\"\n",
        "\n",
        "documents = [\n",
        "    \"In machine learning, feature scaling is the process of normalizing the range of independent variables or features. The goal is to ensure that all features contribute equally to the model, especially in algorithms like SVM or k-nearest neighbors where distance calculations matter.\",\n",
        "\n",
        "    \"Feature scaling is commonly used in data preprocessing to ensure that features are on the same scale. This is particularly important for gradient descent-based algorithms where features with larger scales could disproportionately impact the cost function.\",\n",
        "\n",
        "    \"In data science, feature extraction is the process of transforming raw data into a set of engineered features that can be used in predictive models. Feature scaling is related but focuses on adjusting the values of these features.\",\n",
        "\n",
        "    \"Unsupervised learning algorithms, such as clustering methods, may benefit from feature scaling as it ensures that features with larger numerical ranges don't dominate the learning process.\",\n",
        "\n",
        "    \"One common data preprocessing technique in data science is feature selection. Unlike feature scaling, feature selection aims to reduce the number of input variables used in a model to avoid overfitting.\",\n",
        "\n",
        "    \"Principal component analysis (PCA) is a dimensionality reduction technique used in data science to reduce the number of variables. PCA works best when data is scaled, as it relies on variance which can be skewed by features on different scales.\",\n",
        "\n",
        "    \"Min-max scaling is a common feature scaling technique that usually transforms features to a fixed range [0, 1]. This method is useful when the distribution of data is not Gaussian.\",\n",
        "\n",
        "    \"Standardization, or z-score normalization, is another technique that transforms features into a mean of 0 and a standard deviation of 1. This method is effective for data that follows a normal distribution.\",\n",
        "\n",
        "    \"Feature scaling is critical when using algorithms that rely on distances, such as k-means clustering, as unscaled features can lead to misleading results.\",\n",
        "\n",
        "    \"Scaling can improve the convergence speed of gradient descent algorithms by preventing issues with different feature scales affecting the cost function's landscape.\",\n",
        "\n",
        "    \"In deep learning, feature scaling helps in stabilizing the learning process, allowing for better performance and faster convergence during training.\",\n",
        "\n",
        "    \"Robust scaling is another method that uses the median and the interquartile range to scale features, making it less sensitive to outliers.\",\n",
        "\n",
        "    \"When working with time series data, feature scaling can help in standardizing the input data, improving model performance across different periods.\",\n",
        "\n",
        "    \"Normalization is often used in image processing to scale pixel values to a range that enhances model performance in computer vision tasks.\",\n",
        "\n",
        "    \"Feature scaling is significant when features have different units of measurement, such as height in centimeters and weight in kilograms.\",\n",
        "\n",
        "    \"In recommendation systems, scaling features such as user ratings can improve the model's ability to find similar users or items.\",\n",
        "\n",
        "    \"Dimensionality reduction techniques, like t-SNE and UMAP, often require feature scaling to visualize high-dimensional data in lower dimensions effectively.\",\n",
        "\n",
        "    \"Outlier detection techniques can also benefit from feature scaling, as they can be influenced by unscaled features that have extreme values.\",\n",
        "\n",
        "    \"Data preprocessing steps, including feature scaling, can significantly impact the performance of machine learning models, making it a crucial part of the modeling pipeline.\",\n",
        "\n",
        "    \"In ensemble methods, like random forests, feature scaling is not strictly necessary, but it can still enhance interpretability and comparison of feature importance.\",\n",
        "\n",
        "    \"Feature scaling should be applied consistently across training and test datasets to avoid data leakage and ensure reliable model evaluation.\",\n",
        "\n",
        "    \"In natural language processing (NLP), scaling can be useful when working with numerical features derived from text data, such as word counts or term frequencies.\",\n",
        "\n",
        "    \"Log transformation is a technique that can be applied to skewed data to stabilize variance and make the data more suitable for scaling.\",\n",
        "\n",
        "    \"Data augmentation techniques in machine learning may also include scaling to ensure consistency across training datasets, especially in computer vision tasks.\"\n",
        "]"
      ],
      "metadata": {
        "id": "93XlrG7Cu_5q"
      },
      "execution_count": null,
      "outputs": []
    },
    {
      "cell_type": "markdown",
      "source": [
        "Generate embeddings for these documents using Cohere’s embed-english-v3.0 model"
      ],
      "metadata": {
        "id": "t1ObTdZQvM2m"
      }
    },
    {
      "cell_type": "code",
      "source": [
        "model = \"embed-english-v3.0\"\n",
        "\n",
        "doc_embeddings = co.embed(\n",
        "    texts=documents,\n",
        "    model=model,\n",
        "    input_type=\"search_document\",\n",
        "    embedding_types=['float']\n",
        ")"
      ],
      "metadata": {
        "id": "WKYAAJMZvH_w"
      },
      "execution_count": null,
      "outputs": []
    },
    {
      "cell_type": "markdown",
      "source": [
        "# Upsert Data"
      ],
      "metadata": {
        "id": "4VHLVsCtwS47"
      }
    },
    {
      "cell_type": "code",
      "source": [
        "points = []\n",
        "for idx, (embedding, doc) in enumerate(zip(doc_embeddings.embeddings.float_, documents)):\n",
        "    point = PointStruct(\n",
        "        id=idx,\n",
        "        vector=embedding,\n",
        "        payload={\"document\": doc}\n",
        "    )\n",
        "    points.append(point)"
      ],
      "metadata": {
        "id": "GL7jGaYMwR3i"
      },
      "execution_count": null,
      "outputs": []
    },
    {
      "cell_type": "code",
      "source": [
        "operation_info = client.upsert(\n",
        "    collection_name=\"basic-search-rerank\",\n",
        "    points=points\n",
        ")"
      ],
      "metadata": {
        "id": "XYxXYJUfwxLa"
      },
      "execution_count": null,
      "outputs": []
    },
    {
      "cell_type": "markdown",
      "source": [
        "# Retrieval"
      ],
      "metadata": {
        "id": "z2pYLTNzxRWQ"
      }
    },
    {
      "cell_type": "code",
      "source": [
        "query_embeddings = co.embed(texts=[query],\n",
        "                          model=model,\n",
        "                          input_type=\"search_query\",\n",
        "                          embedding_types=['float'])"
      ],
      "metadata": {
        "id": "sG4UcMYuwxuK"
      },
      "execution_count": null,
      "outputs": []
    },
    {
      "cell_type": "markdown",
      "source": [
        "# Vector Search"
      ],
      "metadata": {
        "id": "W3CSEww5xbe9"
      }
    },
    {
      "cell_type": "code",
      "source": [
        "for i, point in enumerate(search_result):\n",
        "    print(f\"Result {i+1}:\")\n",
        "    print(f\"  ID: {point.id}\")\n",
        "    print(f\"  Score: {point.score:.4f}\")\n",
        "    print(f\"  Document: {point.payload.get('document', '')[:200]}...\")\n",
        "    print()"
      ],
      "metadata": {
        "id": "jr9Dy1hQxbKp"
      },
      "execution_count": null,
      "outputs": []
    },
    {
      "cell_type": "markdown",
      "source": [
        "# Rerank"
      ],
      "metadata": {
        "id": "MoZKFskFxxhn"
      }
    },
    {
      "cell_type": "code",
      "source": [
        "document_list = [point.payload['document'] for point in search_result]\n",
        "\n",
        "rerank_results = co.rerank(\n",
        "    model=\"rerank-english-v3.0\",\n",
        "    query=query,\n",
        "    documents=document_list,\n",
        "    top_n=5,\n",
        ")\n",
        "\n",
        "for i, result in enumerate(rerank_results.results):\n",
        "    print(f\"Rank {i+1}:\")\n",
        "    print(f\"  Score: {result.relevance_score:.4f}\")\n",
        "    print(f\"  Document: {document_list[result.index][:200]}...\")\n",
        "    print()"
      ],
      "metadata": {
        "id": "th0li_g9xi_t"
      },
      "execution_count": null,
      "outputs": []
    }
  ]
}